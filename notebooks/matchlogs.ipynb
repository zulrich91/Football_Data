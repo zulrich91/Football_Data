{
 "cells": [
  {
   "cell_type": "code",
   "execution_count": 1,
   "metadata": {},
   "outputs": [],
   "source": [
    "import pandas as pd\n",
    "import requests\n",
    "from bs4 import BeautifulSoup\n",
    "import numpy as np\n",
    "import re\n",
    "import sys, getopt\n",
    "import csv"
   ]
  },
  {
   "cell_type": "code",
   "execution_count": 2,
   "metadata": {},
   "outputs": [],
   "source": [
    "df = pd.read_csv(\"../data/joueur_url.csv\")"
   ]
  },
  {
   "cell_type": "code",
   "execution_count": 4,
   "metadata": {},
   "outputs": [],
   "source": [
    "messi_url = df[df['name']== \"Lionel Messi\"][\"url\"]"
   ]
  },
  {
   "cell_type": "code",
   "execution_count": 9,
   "metadata": {},
   "outputs": [
    {
     "data": {
      "text/plain": [
       "'https://fbref.com/en/players/d70ce98e/Lionel-Messi'"
      ]
     },
     "execution_count": 9,
     "metadata": {},
     "output_type": "execute_result"
    }
   ],
   "source": [
    "messi_url.values[0]"
   ]
  },
  {
   "cell_type": "code",
   "execution_count": 65,
   "metadata": {},
   "outputs": [],
   "source": [
    "def get_match_logs(url):\n",
    "    match_dico= {}\n",
    "    res = requests.get(url)\n",
    "    ## The next two lines get around the issue with comments breaking the parsing.\n",
    "    comm = re.compile(\"<!--|-->\")\n",
    "    # soup = BeautifulSoup(comm.sub(\"\",res.text),'lxml')\n",
    "    soup = BeautifulSoup(comm.sub(\"\",res.text),\"html.parser\")\n",
    "    inner_div = soup.find(\"div\", id=\"inner_nav\")\n",
    "    match_logs_years = inner_div.find_all(\"ul\")[0].find_all(\"ul\")[1]\n",
    "    match_logs = match_logs_years.find_all(\"li\")\n",
    "    for match_log in match_logs:\n",
    "    # print(match_log.find(\"a\").get(\"href\").split(\"/\")[5])\n",
    "    # print(match_log.text)\n",
    "        match_dico[match_log.text] = match_log.find(\"a\").get(\"href\").split(\"/\")[5]\n",
    "    print(\"Done\")\n",
    "    return match_dico"
   ]
  },
  {
   "cell_type": "code",
   "execution_count": 62,
   "metadata": {},
   "outputs": [
    {
     "name": "stdout",
     "output_type": "stream",
     "text": [
      "Done\n"
     ]
    }
   ],
   "source": [
    "player_url = messi_url.values[0]\n",
    "player_url, match_logs_years = get_match_logs(player_url)"
   ]
  },
  {
   "cell_type": "code",
   "execution_count": 63,
   "metadata": {},
   "outputs": [
    {
     "data": {
      "text/plain": [
       "{'2004-2005': '2004-2005',\n",
       " '2005-2006': '2005-2006',\n",
       " '2006-2007': '2006-2007',\n",
       " '2007-2008': '2007-2008',\n",
       " '2008-2009': '2008-2009',\n",
       " '2009-2010': '2009-2010',\n",
       " '2010-2011': '2010-2011',\n",
       " '2011-2012': '2011-2012',\n",
       " '2012-2013': '2012-2013',\n",
       " '2013-2014': '2013-2014',\n",
       " '2014-2015': '2014-2015',\n",
       " '2015-2016': '2015-2016',\n",
       " '2016-2017': '2016-2017',\n",
       " '2017-2018': '2017-2018',\n",
       " '2018-2019': '2018-2019',\n",
       " '2019-2020': '2019-2020',\n",
       " '2020-2021': '2020-2021',\n",
       " '2021-2022': '2021-2022',\n",
       " 'National Team': 'nat_tm'}"
      ]
     },
     "execution_count": 63,
     "metadata": {},
     "output_type": "execute_result"
    }
   ],
   "source": [
    "match_logs_years"
   ]
  },
  {
   "cell_type": "code",
   "execution_count": 76,
   "metadata": {},
   "outputs": [
    {
     "data": {
      "text/html": [
       "<div>\n",
       "<style scoped>\n",
       "    .dataframe tbody tr th:only-of-type {\n",
       "        vertical-align: middle;\n",
       "    }\n",
       "\n",
       "    .dataframe tbody tr th {\n",
       "        vertical-align: top;\n",
       "    }\n",
       "\n",
       "    .dataframe thead th {\n",
       "        text-align: right;\n",
       "    }\n",
       "</style>\n",
       "<table border=\"1\" class=\"dataframe\">\n",
       "  <thead>\n",
       "    <tr style=\"text-align: right;\">\n",
       "      <th></th>\n",
       "      <th>id</th>\n",
       "      <th>name</th>\n",
       "      <th>url</th>\n",
       "      <th>match_logs</th>\n",
       "    </tr>\n",
       "  </thead>\n",
       "  <tbody>\n",
       "    <tr>\n",
       "      <th>0</th>\n",
       "      <td>ad713dff</td>\n",
       "      <td>Jamal Aabbou</td>\n",
       "      <td>https://fbref.com/en/players/ad713dff/Jamal-Aa...</td>\n",
       "      <td>https://fbref.com/en/players/ad713dff/matchlog...</td>\n",
       "    </tr>\n",
       "    <tr>\n",
       "      <th>1</th>\n",
       "      <td>13792bac</td>\n",
       "      <td>Rayane Aabid</td>\n",
       "      <td>https://fbref.com/en/players/13792bac/Rayane-A...</td>\n",
       "      <td>https://fbref.com/en/players/13792bac/matchlog...</td>\n",
       "    </tr>\n",
       "    <tr>\n",
       "      <th>2</th>\n",
       "      <td>9a5b8092</td>\n",
       "      <td>Mohamed Aakib</td>\n",
       "      <td>https://fbref.com/en/players/9a5b8092/Mohamed-...</td>\n",
       "      <td>https://fbref.com/en/players/9a5b8092/matchlog...</td>\n",
       "    </tr>\n",
       "    <tr>\n",
       "      <th>3</th>\n",
       "      <td>a7e4760c</td>\n",
       "      <td>Ismael Aaneba</td>\n",
       "      <td>https://fbref.com/en/players/a7e4760c/Ismael-A...</td>\n",
       "      <td>https://fbref.com/en/players/a7e4760c/matchlog...</td>\n",
       "    </tr>\n",
       "    <tr>\n",
       "      <th>4</th>\n",
       "      <td>5f09991f</td>\n",
       "      <td>Patrick van Aanholt</td>\n",
       "      <td>https://fbref.com/en/players/5f09991f/Patrick-...</td>\n",
       "      <td>https://fbref.com/en/players/5f09991f/matchlog...</td>\n",
       "    </tr>\n",
       "  </tbody>\n",
       "</table>\n",
       "</div>"
      ],
      "text/plain": [
       "         id                 name  \\\n",
       "0  ad713dff         Jamal Aabbou   \n",
       "1  13792bac         Rayane Aabid   \n",
       "2  9a5b8092        Mohamed Aakib   \n",
       "3  a7e4760c        Ismael Aaneba   \n",
       "4  5f09991f  Patrick van Aanholt   \n",
       "\n",
       "                                                 url  \\\n",
       "0  https://fbref.com/en/players/ad713dff/Jamal-Aa...   \n",
       "1  https://fbref.com/en/players/13792bac/Rayane-A...   \n",
       "2  https://fbref.com/en/players/9a5b8092/Mohamed-...   \n",
       "3  https://fbref.com/en/players/a7e4760c/Ismael-A...   \n",
       "4  https://fbref.com/en/players/5f09991f/Patrick-...   \n",
       "\n",
       "                                          match_logs  \n",
       "0  https://fbref.com/en/players/ad713dff/matchlog...  \n",
       "1  https://fbref.com/en/players/13792bac/matchlog...  \n",
       "2  https://fbref.com/en/players/9a5b8092/matchlog...  \n",
       "3  https://fbref.com/en/players/a7e4760c/matchlog...  \n",
       "4  https://fbref.com/en/players/5f09991f/matchlog...  "
      ]
     },
     "execution_count": 76,
     "metadata": {},
     "output_type": "execute_result"
    }
   ],
   "source": [
    "df.head()"
   ]
  },
  {
   "cell_type": "code",
   "execution_count": 86,
   "metadata": {},
   "outputs": [],
   "source": [
    "df_sample = df.iloc[0:10,]"
   ]
  },
  {
   "cell_type": "code",
   "execution_count": 89,
   "metadata": {},
   "outputs": [
    {
     "data": {
      "text/plain": [
       "(10, 4)"
      ]
     },
     "execution_count": 89,
     "metadata": {},
     "output_type": "execute_result"
    }
   ],
   "source": [
    "df_sample.shape"
   ]
  },
  {
   "cell_type": "code",
   "execution_count": 90,
   "metadata": {},
   "outputs": [
    {
     "name": "stdout",
     "output_type": "stream",
     "text": [
      "Done\n",
      "Done\n",
      "Done\n",
      "Done\n",
      "Done\n",
      "Done\n",
      "Done\n",
      "Done\n",
      "Done\n",
      "Done\n"
     ]
    },
    {
     "name": "stderr",
     "output_type": "stream",
     "text": [
      "/var/folders/p8/3m9yr08n2933fqw2kp16c09w0000gn/T/ipykernel_34844/821814303.py:1: SettingWithCopyWarning: \n",
      "A value is trying to be set on a copy of a slice from a DataFrame.\n",
      "Try using .loc[row_indexer,col_indexer] = value instead\n",
      "\n",
      "See the caveats in the documentation: https://pandas.pydata.org/pandas-docs/stable/user_guide/indexing.html#returning-a-view-versus-a-copy\n",
      "  df_sample[\"logs\"] = df_sample.url.apply(lambda x: get_match_logs(x))\n"
     ]
    }
   ],
   "source": [
    "df_sample[\"logs\"] = df_sample.url.apply(lambda x: get_match_logs(x))"
   ]
  },
  {
   "cell_type": "code",
   "execution_count": 91,
   "metadata": {},
   "outputs": [
    {
     "data": {
      "text/html": [
       "<div>\n",
       "<style scoped>\n",
       "    .dataframe tbody tr th:only-of-type {\n",
       "        vertical-align: middle;\n",
       "    }\n",
       "\n",
       "    .dataframe tbody tr th {\n",
       "        vertical-align: top;\n",
       "    }\n",
       "\n",
       "    .dataframe thead th {\n",
       "        text-align: right;\n",
       "    }\n",
       "</style>\n",
       "<table border=\"1\" class=\"dataframe\">\n",
       "  <thead>\n",
       "    <tr style=\"text-align: right;\">\n",
       "      <th></th>\n",
       "      <th>id</th>\n",
       "      <th>name</th>\n",
       "      <th>url</th>\n",
       "      <th>match_logs</th>\n",
       "      <th>logs</th>\n",
       "    </tr>\n",
       "  </thead>\n",
       "  <tbody>\n",
       "    <tr>\n",
       "      <th>0</th>\n",
       "      <td>ad713dff</td>\n",
       "      <td>Jamal Aabbou</td>\n",
       "      <td>https://fbref.com/en/players/ad713dff/Jamal-Aa...</td>\n",
       "      <td>https://fbref.com/en/players/ad713dff/matchlog...</td>\n",
       "      <td>{'2018-2019': '2018-2019', '2019-2020': '2019-...</td>\n",
       "    </tr>\n",
       "    <tr>\n",
       "      <th>1</th>\n",
       "      <td>13792bac</td>\n",
       "      <td>Rayane Aabid</td>\n",
       "      <td>https://fbref.com/en/players/13792bac/Rayane-A...</td>\n",
       "      <td>https://fbref.com/en/players/13792bac/matchlog...</td>\n",
       "      <td>{'2017-2018': '2017-2018', '2018-2019': '2018-...</td>\n",
       "    </tr>\n",
       "    <tr>\n",
       "      <th>2</th>\n",
       "      <td>9a5b8092</td>\n",
       "      <td>Mohamed Aakib</td>\n",
       "      <td>https://fbref.com/en/players/9a5b8092/Mohamed-...</td>\n",
       "      <td>https://fbref.com/en/players/9a5b8092/matchlog...</td>\n",
       "      <td>{'National Team': 'nat_tm'}</td>\n",
       "    </tr>\n",
       "    <tr>\n",
       "      <th>3</th>\n",
       "      <td>a7e4760c</td>\n",
       "      <td>Ismael Aaneba</td>\n",
       "      <td>https://fbref.com/en/players/a7e4760c/Ismael-A...</td>\n",
       "      <td>https://fbref.com/en/players/a7e4760c/matchlog...</td>\n",
       "      <td>{'2017-2018': '2017-2018', '2018-2019': '2018-...</td>\n",
       "    </tr>\n",
       "    <tr>\n",
       "      <th>4</th>\n",
       "      <td>5f09991f</td>\n",
       "      <td>Patrick van Aanholt</td>\n",
       "      <td>https://fbref.com/en/players/5f09991f/Patrick-...</td>\n",
       "      <td>https://fbref.com/en/players/5f09991f/matchlog...</td>\n",
       "      <td>{'2009-2010': '2009-2010', '2010-2011': '2010-...</td>\n",
       "    </tr>\n",
       "    <tr>\n",
       "      <th>5</th>\n",
       "      <td>9344895b</td>\n",
       "      <td>Mads Aaquist</td>\n",
       "      <td>https://fbref.com/en/players/9344895b/Mads-Aaq...</td>\n",
       "      <td>https://fbref.com/en/players/9344895b/matchlog...</td>\n",
       "      <td>{'2017-2018': '2017-2018', '2018-2019': '2018-...</td>\n",
       "    </tr>\n",
       "    <tr>\n",
       "      <th>6</th>\n",
       "      <td>df2b14ae</td>\n",
       "      <td>Signy Aarna</td>\n",
       "      <td>https://fbref.com/en/players/df2b14ae/Signy-Aarna</td>\n",
       "      <td>https://fbref.com/en/players/df2b14ae/matchlog...</td>\n",
       "      <td>{'2021-2022': '2021-2022', 'National Team': 'n...</td>\n",
       "    </tr>\n",
       "    <tr>\n",
       "      <th>7</th>\n",
       "      <td>60e81cfc</td>\n",
       "      <td>Miko Aarne Virtanen</td>\n",
       "      <td>https://fbref.com/en/players/60e81cfc/Miko-Aar...</td>\n",
       "      <td>https://fbref.com/en/players/60e81cfc/matchlog...</td>\n",
       "      <td>{'2019-2020': '2019-2020', '2020-2021': '2020-...</td>\n",
       "    </tr>\n",
       "    <tr>\n",
       "      <th>8</th>\n",
       "      <td>774cf58b</td>\n",
       "      <td>Max Aarons</td>\n",
       "      <td>https://fbref.com/en/players/774cf58b/Max-Aarons</td>\n",
       "      <td>https://fbref.com/en/players/774cf58b/matchlog...</td>\n",
       "      <td>{'2017-2018': '2017-2018', '2018-2019': '2018-...</td>\n",
       "    </tr>\n",
       "    <tr>\n",
       "      <th>9</th>\n",
       "      <td>c5942695</td>\n",
       "      <td>Rolando Aarons</td>\n",
       "      <td>https://fbref.com/en/players/c5942695/Rolando-...</td>\n",
       "      <td>https://fbref.com/en/players/c5942695/matchlog...</td>\n",
       "      <td>{'2014-2015': '2014-2015', '2015-2016': '2015-...</td>\n",
       "    </tr>\n",
       "  </tbody>\n",
       "</table>\n",
       "</div>"
      ],
      "text/plain": [
       "         id                 name  \\\n",
       "0  ad713dff         Jamal Aabbou   \n",
       "1  13792bac         Rayane Aabid   \n",
       "2  9a5b8092        Mohamed Aakib   \n",
       "3  a7e4760c        Ismael Aaneba   \n",
       "4  5f09991f  Patrick van Aanholt   \n",
       "5  9344895b         Mads Aaquist   \n",
       "6  df2b14ae          Signy Aarna   \n",
       "7  60e81cfc  Miko Aarne Virtanen   \n",
       "8  774cf58b           Max Aarons   \n",
       "9  c5942695       Rolando Aarons   \n",
       "\n",
       "                                                 url  \\\n",
       "0  https://fbref.com/en/players/ad713dff/Jamal-Aa...   \n",
       "1  https://fbref.com/en/players/13792bac/Rayane-A...   \n",
       "2  https://fbref.com/en/players/9a5b8092/Mohamed-...   \n",
       "3  https://fbref.com/en/players/a7e4760c/Ismael-A...   \n",
       "4  https://fbref.com/en/players/5f09991f/Patrick-...   \n",
       "5  https://fbref.com/en/players/9344895b/Mads-Aaq...   \n",
       "6  https://fbref.com/en/players/df2b14ae/Signy-Aarna   \n",
       "7  https://fbref.com/en/players/60e81cfc/Miko-Aar...   \n",
       "8   https://fbref.com/en/players/774cf58b/Max-Aarons   \n",
       "9  https://fbref.com/en/players/c5942695/Rolando-...   \n",
       "\n",
       "                                          match_logs  \\\n",
       "0  https://fbref.com/en/players/ad713dff/matchlog...   \n",
       "1  https://fbref.com/en/players/13792bac/matchlog...   \n",
       "2  https://fbref.com/en/players/9a5b8092/matchlog...   \n",
       "3  https://fbref.com/en/players/a7e4760c/matchlog...   \n",
       "4  https://fbref.com/en/players/5f09991f/matchlog...   \n",
       "5  https://fbref.com/en/players/9344895b/matchlog...   \n",
       "6  https://fbref.com/en/players/df2b14ae/matchlog...   \n",
       "7  https://fbref.com/en/players/60e81cfc/matchlog...   \n",
       "8  https://fbref.com/en/players/774cf58b/matchlog...   \n",
       "9  https://fbref.com/en/players/c5942695/matchlog...   \n",
       "\n",
       "                                                logs  \n",
       "0  {'2018-2019': '2018-2019', '2019-2020': '2019-...  \n",
       "1  {'2017-2018': '2017-2018', '2018-2019': '2018-...  \n",
       "2                        {'National Team': 'nat_tm'}  \n",
       "3  {'2017-2018': '2017-2018', '2018-2019': '2018-...  \n",
       "4  {'2009-2010': '2009-2010', '2010-2011': '2010-...  \n",
       "5  {'2017-2018': '2017-2018', '2018-2019': '2018-...  \n",
       "6  {'2021-2022': '2021-2022', 'National Team': 'n...  \n",
       "7  {'2019-2020': '2019-2020', '2020-2021': '2020-...  \n",
       "8  {'2017-2018': '2017-2018', '2018-2019': '2018-...  \n",
       "9  {'2014-2015': '2014-2015', '2015-2016': '2015-...  "
      ]
     },
     "execution_count": 91,
     "metadata": {},
     "output_type": "execute_result"
    }
   ],
   "source": [
    "df_sample"
   ]
  },
  {
   "cell_type": "code",
   "execution_count": 70,
   "metadata": {},
   "outputs": [
    {
     "data": {
      "text/plain": [
       "0        https://fbref.com/en/players/ad713dff/Jamal-Aa...\n",
       "1        https://fbref.com/en/players/13792bac/Rayane-A...\n",
       "2        https://fbref.com/en/players/9a5b8092/Mohamed-...\n",
       "3        https://fbref.com/en/players/a7e4760c/Ismael-A...\n",
       "4        https://fbref.com/en/players/5f09991f/Patrick-...\n",
       "                               ...                        \n",
       "27096    https://fbref.com/en/players/be18d79f/Oliwier-...\n",
       "27097    https://fbref.com/en/players/adfc9574/Marcel-Z...\n",
       "27098     https://fbref.com/en/players/1da5a0b9/Pawel-Zyra\n",
       "27099    https://fbref.com/en/players/d497314f/Mateusz-...\n",
       "27100    https://fbref.com/en/players/e99bd58b/Michal-Zyro\n",
       "Name: url, Length: 27101, dtype: object"
      ]
     },
     "execution_count": 70,
     "metadata": {},
     "output_type": "execute_result"
    }
   ],
   "source": [
    "df.url"
   ]
  },
  {
   "cell_type": "code",
   "execution_count": null,
   "metadata": {},
   "outputs": [],
   "source": []
  }
 ],
 "metadata": {
  "interpreter": {
   "hash": "c009bdc53ccbbd0dc079b143b735d9d9f392397f9be3177e50999814b4e4127e"
  },
  "kernelspec": {
   "display_name": "Python 3.8.8 64-bit ('imad': conda)",
   "name": "python3"
  },
  "language_info": {
   "codemirror_mode": {
    "name": "ipython",
    "version": 3
   },
   "file_extension": ".py",
   "mimetype": "text/x-python",
   "name": "python",
   "nbconvert_exporter": "python",
   "pygments_lexer": "ipython3",
   "version": "3.8.8"
  },
  "orig_nbformat": 4
 },
 "nbformat": 4,
 "nbformat_minor": 2
}
