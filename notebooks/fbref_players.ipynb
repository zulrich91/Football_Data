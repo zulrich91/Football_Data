{
 "cells": [
  {
   "cell_type": "code",
   "execution_count": null,
   "source": [
    "import pandas as pd\n",
    "import requests\n",
    "from bs4 import BeautifulSoup\n",
    "import numpy as np\n",
    "import re\n",
    "import sys, getopt\n",
    "import csv"
   ],
   "outputs": [],
   "metadata": {}
  },
  {
   "cell_type": "code",
   "execution_count": null,
   "source": [
    "\n",
    "#standard(stats)\n",
    "stats = [\"player\",\"nationality\",\"position\",\"squad\",\"age\",\"birth_year\",\"games\",\"games_starts\",\"minutes\",\"goals\",\"assists\",\"pens_made\",\"pens_att\",\"cards_yellow\",\"cards_red\",\"goals_per90\",\"assists_per90\",\"goals_assists_per90\",\"goals_pens_per90\",\"goals_assists_pens_per90\",\"xg\",\"npxg\",\"xa\",\"xg_per90\",\"xa_per90\",\"xg_xa_per90\",\"npxg_per90\",\"npxg_xa_per90\", \"matches\"]\n",
    "stats3 = [\"players_used\",\"possession\",\"games\",\"games_starts\",\"minutes\",\"goals\",\"assists\",\"pens_made\",\"pens_att\",\"cards_yellow\",\"cards_red\",\"goals_per90\",\"assists_per90\",\"goals_assists_per90\",\"goals_pens_per90\",\"goals_assists_pens_per90\",\"xg\",\"npxg\",\"xa\",\"xg_per90\",\"xa_per90\",\"xg_xa_per90\",\"npxg_per90\",\"npxg_xa_per90\"] \n",
    "#goalkeeping(keepers)\n",
    "keepers = [\"player\",\"nationality\",\"position\",\"squad\",\"age\",\"birth_year\",\"games_gk\",\"games_starts_gk\",\"minutes_gk\",\"goals_against_gk\",\"goals_against_per90_gk\",\"shots_on_target_against\",\"saves\",\"save_pct\",\"wins_gk\",\"draws_gk\",\"losses_gk\",\"clean_sheets\",\"clean_sheets_pct\",\"pens_att_gk\",\"pens_allowed\",\"pens_saved\",\"pens_missed_gk\"]\n",
    "keepers3 = [\"players_used\",\"games_gk\",\"games_starts_gk\",\"minutes_gk\",\"goals_against_gk\",\"goals_against_per90_gk\",\"shots_on_target_against\",\"saves\",\"save_pct\",\"wins_gk\",\"draws_gk\",\"losses_gk\",\"clean_sheets\",\"clean_sheets_pct\",\"pens_att_gk\",\"pens_allowed\",\"pens_saved\",\"pens_missed_gk\"]\n",
    "#advance goalkeeping(keepersadv)\n",
    "keepersadv = [\"player\",\"nationality\",\"position\",\"squad\",\"age\",\"birth_year\",\"minutes_90s\",\"goals_against_gk\",\"pens_allowed\",\"free_kick_goals_against_gk\",\"corner_kick_goals_against_gk\",\"own_goals_against_gk\",\"psxg_gk\",\"psnpxg_per_shot_on_target_against\",\"psxg_net_gk\",\"psxg_net_per90_gk\",\"passes_completed_launched_gk\",\"passes_launched_gk\",\"passes_pct_launched_gk\",\"passes_gk\",\"passes_throws_gk\",\"pct_passes_launched_gk\",\"passes_length_avg_gk\",\"goal_kicks\",\"pct_goal_kicks_launched\",\"goal_kick_length_avg\",\"crosses_gk\",\"crosses_stopped_gk\",\"crosses_stopped_pct_gk\",\"def_actions_outside_pen_area_gk\",\"def_actions_outside_pen_area_per90_gk\",\"avg_distance_def_actions_gk\"]\n",
    "keepersadv2 = [\"minutes_90s\",\"goals_against_gk\",\"pens_allowed\",\"free_kick_goals_against_gk\",\"corner_kick_goals_against_gk\",\"own_goals_against_gk\",\"psxg_gk\",\"psnpxg_per_shot_on_target_against\",\"psxg_net_gk\",\"psxg_net_per90_gk\",\"passes_completed_launched_gk\",\"passes_launched_gk\",\"passes_pct_launched_gk\",\"passes_gk\",\"passes_throws_gk\",\"pct_passes_launched_gk\",\"passes_length_avg_gk\",\"goal_kicks\",\"pct_goal_kicks_launched\",\"goal_kick_length_avg\",\"crosses_gk\",\"crosses_stopped_gk\",\"crosses_stopped_pct_gk\",\"def_actions_outside_pen_area_gk\",\"def_actions_outside_pen_area_per90_gk\",\"avg_distance_def_actions_gk\"]\n",
    "#shooting(shooting)\n",
    "shooting = [\"player\",\"nationality\",\"position\",\"squad\",\"age\",\"birth_year\",\"minutes_90s\",\"goals\",\"pens_made\",\"pens_att\",\"shots_total\",\"shots_on_target\",\"shots_free_kicks\",\"shots_on_target_pct\",\"shots_total_per90\",\"shots_on_target_per90\",\"goals_per_shot\",\"goals_per_shot_on_target\",\"xg\",\"npxg\",\"npxg_per_shot\",\"xg_net\",\"npxg_net\"]\n",
    "shooting2 = [\"minutes_90s\",\"goals\",\"pens_made\",\"pens_att\",\"shots_total\",\"shots_on_target\",\"shots_free_kicks\",\"shots_on_target_pct\",\"shots_total_per90\",\"shots_on_target_per90\",\"goals_per_shot\",\"goals_per_shot_on_target\",\"xg\",\"npxg\",\"npxg_per_shot\",\"xg_net\",\"npxg_net\"]\n",
    "shooting3 = [\"goals\",\"pens_made\",\"pens_att\",\"shots_total\",\"shots_on_target\",\"shots_free_kicks\",\"shots_on_target_pct\",\"shots_total_per90\",\"shots_on_target_per90\",\"goals_per_shot\",\"goals_per_shot_on_target\",\"xg\",\"npxg\",\"npxg_per_shot\",\"xg_net\",\"npxg_net\"]\n",
    "#passing(passing)\n",
    "passing = [\"player\",\"nationality\",\"position\",\"squad\",\"age\",\"birth_year\",\"minutes_90s\",\"passes_completed\",\"passes\",\"passes_pct\",\"passes_total_distance\",\"passes_progressive_distance\",\"passes_completed_short\",\"passes_short\",\"passes_pct_short\",\"passes_completed_medium\",\"passes_medium\",\"passes_pct_medium\",\"passes_completed_long\",\"passes_long\",\"passes_pct_long\",\"assists\",\"xa\",\"xa_net\",\"assisted_shots\",\"passes_into_final_third\",\"passes_into_penalty_area\",\"crosses_into_penalty_area\",\"progressive_passes\"]\n",
    "passing2 = [\"passes_completed\",\"passes\",\"passes_pct\",\"passes_total_distance\",\"passes_progressive_distance\",\"passes_completed_short\",\"passes_short\",\"passes_pct_short\",\"passes_completed_medium\",\"passes_medium\",\"passes_pct_medium\",\"passes_completed_long\",\"passes_long\",\"passes_pct_long\",\"assists\",\"xa\",\"xa_net\",\"assisted_shots\",\"passes_into_final_third\",\"passes_into_penalty_area\",\"crosses_into_penalty_area\",\"progressive_passes\"]\n",
    "#passtypes(passing_types)\n",
    "passing_types = [\"player\",\"nationality\",\"position\",\"squad\",\"age\",\"birth_year\",\"minutes_90s\",\"passes\",\"passes_live\",\"passes_dead\",\"passes_free_kicks\",\"through_balls\",\"passes_pressure\",\"passes_switches\",\"crosses\",\"corner_kicks\",\"corner_kicks_in\",\"corner_kicks_out\",\"corner_kicks_straight\",\"passes_ground\",\"passes_low\",\"passes_high\",\"passes_left_foot\",\"passes_right_foot\",\"passes_head\",\"throw_ins\",\"passes_other_body\",\"passes_completed\",\"passes_offsides\",\"passes_oob\",\"passes_intercepted\",\"passes_blocked\"]\n",
    "passing_types2 = [\"passes\",\"passes_live\",\"passes_dead\",\"passes_free_kicks\",\"through_balls\",\"passes_pressure\",\"passes_switches\",\"crosses\",\"corner_kicks\",\"corner_kicks_in\",\"corner_kicks_out\",\"corner_kicks_straight\",\"passes_ground\",\"passes_low\",\"passes_high\",\"passes_left_foot\",\"passes_right_foot\",\"passes_head\",\"throw_ins\",\"passes_other_body\",\"passes_completed\",\"passes_offsides\",\"passes_oob\",\"passes_intercepted\",\"passes_blocked\"]\n",
    "#goal and shot creation(gca)\n",
    "gca = [\"player\",\"nationality\",\"position\",\"squad\",\"age\",\"birth_year\",\"minutes_90s\",\"sca\",\"sca_per90\",\"sca_passes_live\",\"sca_passes_dead\",\"sca_dribbles\",\"sca_shots\",\"sca_fouled\",\"gca\",\"gca_per90\",\"gca_passes_live\",\"gca_passes_dead\",\"gca_dribbles\",\"gca_shots\",\"gca_fouled\",\"gca_defense\"]\n",
    "gca2 = [\"sca\",\"sca_per90\",\"sca_passes_live\",\"sca_passes_dead\",\"sca_dribbles\",\"sca_shots\",\"sca_fouled\",\"gca\",\"gca_per90\",\"gca_passes_live\",\"gca_passes_dead\",\"gca_dribbles\",\"gca_shots\",\"gca_fouled\",\"gca_defense\"]\n",
    "#defensive actions(defense)\n",
    "defense = [\"player\",\"nationality\",\"position\",\"squad\",\"age\",\"birth_year\",\"minutes_90s\",\"tackles\",\"tackles_won\",\"tackles_def_3rd\",\"tackles_mid_3rd\",\"tackles_att_3rd\",\"dribble_tackles\",\"dribbles_vs\",\"dribble_tackles_pct\",\"dribbled_past\",\"pressures\",\"pressure_regains\",\"pressure_regain_pct\",\"pressures_def_3rd\",\"pressures_mid_3rd\",\"pressures_att_3rd\",\"blocks\",\"blocked_shots\",\"blocked_shots_saves\",\"blocked_passes\",\"interceptions\",\"clearances\",\"errors\"]\n",
    "defense2 = [\"tackles\",\"tackles_won\",\"tackles_def_3rd\",\"tackles_mid_3rd\",\"tackles_att_3rd\",\"dribble_tackles\",\"dribbles_vs\",\"dribble_tackles_pct\",\"dribbled_past\",\"pressures\",\"pressure_regains\",\"pressure_regain_pct\",\"pressures_def_3rd\",\"pressures_mid_3rd\",\"pressures_att_3rd\",\"blocks\",\"blocked_shots\",\"blocked_shots_saves\",\"blocked_passes\",\"interceptions\",\"clearances\",\"errors\"]\n",
    "#possession(possession)\n",
    "possession = [\"player\",\"nationality\",\"position\",\"squad\",\"age\",\"birth_year\",\"minutes_90s\",\"touches\",\"touches_def_pen_area\",\"touches_def_3rd\",\"touches_mid_3rd\",\"touches_att_3rd\",\"touches_att_pen_area\",\"touches_live_ball\",\"dribbles_completed\",\"dribbles\",\"dribbles_completed_pct\",\"players_dribbled_past\",\"nutmegs\",\"carries\",\"carry_distance\",\"carry_progressive_distance\",\"progressive_carries\",\"carries_into_final_third\",\"carries_into_penalty_area\",\"pass_targets\",\"passes_received\",\"passes_received_pct\",\"miscontrols\",\"dispossessed\"]\n",
    "possession2 = [\"touches\",\"touches_def_pen_area\",\"touches_def_3rd\",\"touches_mid_3rd\",\"touches_att_3rd\",\"touches_att_pen_area\",\"touches_live_ball\",\"dribbles_completed\",\"dribbles\",\"dribbles_completed_pct\",\"players_dribbled_past\",\"nutmegs\",\"carries\",\"carry_distance\",\"carry_progressive_distance\",\"progressive_carries\",\"carries_into_final_third\",\"carries_into_penalty_area\",\"pass_targets\",\"passes_received\",\"passes_received_pct\",\"miscontrols\",\"dispossessed\"]\n",
    "#playingtime(playingtime)\n",
    "playingtime = [\"player\",\"nationality\",\"position\",\"squad\",\"age\",\"birth_year\",\"minutes_90s\",\"games\",\"minutes\",\"minutes_per_game\",\"minutes_pct\",\"games_starts\",\"minutes_per_start\",\"games_subs\",\"minutes_per_sub\",\"unused_subs\",\"points_per_match\",\"on_goals_for\",\"on_goals_against\",\"plus_minus\",\"plus_minus_per90\",\"plus_minus_wowy\",\"on_xg_for\",\"on_xg_against\",\"xg_plus_minus\",\"xg_plus_minus_per90\",\"xg_plus_minus_wowy\"]\n",
    "playingtime2 = [\"games\",\"minutes\",\"minutes_per_game\",\"minutes_pct\",\"games_starts\",\"minutes_per_start\",\"games_subs\",\"minutes_per_sub\",\"unused_subs\",\"points_per_match\",\"on_goals_for\",\"on_goals_against\",\"plus_minus\",\"plus_minus_per90\",\"plus_minus_wowy\",\"on_xg_for\",\"on_xg_against\",\"xg_plus_minus\",\"xg_plus_minus_per90\",\"xg_plus_minus_wowy\"]\n",
    "#miscallaneous(misc)\n",
    "misc = [\"player\",\"nationality\",\"position\",\"squad\",\"age\",\"birth_year\",\"minutes_90s\",\"cards_yellow\",\"cards_red\",\"cards_yellow_red\",\"fouls\",\"fouled\",\"offsides\",\"crosses\",\"interceptions\",\"tackles_won\",\"pens_won\",\"pens_conceded\",\"own_goals\",\"ball_recoveries\",\"aerials_won\",\"aerials_lost\",\"aerials_won_pct\"]\n",
    "misc2 = [\"cards_yellow\",\"cards_red\",\"cards_yellow_red\",\"fouls\",\"fouled\",\"offsides\",\"crosses\",\"interceptions\",\"tackles_won\",\"pens_won\",\"pens_conceded\",\"own_goals\",\"ball_recoveries\",\"aerials_won\",\"aerials_lost\",\"aerials_won_pct\"]"
   ],
   "outputs": [],
   "metadata": {}
  },
  {
   "cell_type": "code",
   "execution_count": null,
   "source": [
    "#Functions to get the data in a dataframe using BeautifulSoup\n",
    "\n",
    "def get_tables(url):\n",
    "    res = requests.get(url)\n",
    "    ## The next two lines get around the issue with comments breaking the parsing.\n",
    "    comm = re.compile(\"<!--|-->\")\n",
    "    # soup = BeautifulSoup(comm.sub(\"\",res.text),'lxml')\n",
    "    soup = BeautifulSoup(comm.sub(\"\",res.text),\"html.parser\")\n",
    "    all_tables = soup.findAll(\"tbody\")\n",
    "    team_table = all_tables[0]\n",
    "    oponent_table = all_tables[1]\n",
    "    player_table = all_tables[2]\n",
    "    return player_table, team_table"
   ],
   "outputs": [],
   "metadata": {}
  },
  {
   "cell_type": "code",
   "execution_count": null,
   "source": [
    "def get_frame(features, player_table):\n",
    "    pre_df_player = dict()\n",
    "    features_wanted_player = features\n",
    "    rows_player = player_table.find_all('tr')\n",
    "    for row in rows_player:\n",
    "        if(row.find('th',{\"scope\":\"row\"}) != None):\n",
    "            \n",
    "            for f in features_wanted_player:\n",
    "\n",
    "                cell = row.find(\"td\",{\"data-stat\": f})\n",
    "                a = cell.text.strip().encode()\n",
    "                text=a.decode(\"utf-8\")\n",
    "\n",
    "                if (f == \"matches\"):\n",
    "                    text = row.find_all(\"a\", href=True)[3].attrs[\"href\"]\n",
    "                if(text == ''):\n",
    "                    text = '0'\n",
    "                if((f!='player')&(f!='nationality')&(f!='position')&(f!='squad')&(f!='age')&(f!='birth_year')&(f!='matches')):\n",
    "                    text = float(text.replace(',',''))\n",
    "                if f in pre_df_player:\n",
    "                    pre_df_player[f].append(text)\n",
    "                else:\n",
    "                    pre_df_player[f] = [text]\n",
    "    df_player = pd.DataFrame.from_dict(pre_df_player)\n",
    "    return df_player"
   ],
   "outputs": [],
   "metadata": {}
  },
  {
   "cell_type": "code",
   "execution_count": null,
   "source": [
    "def get_frame_team(features, team_table):\n",
    "    pre_df_squad = dict()\n",
    "    #Note: features does not contain squad name, it requires special treatment\n",
    "    features_wanted_squad = features\n",
    "    rows_squad = team_table.find_all('tr')\n",
    "    for row in rows_squad:\n",
    "        if(row.find('th',{\"scope\":\"row\"}) != None):\n",
    "            name = row.find('th',{\"data-stat\":\"squad\"}).text.strip().encode().decode(\"utf-8\")\n",
    "            if 'squad' in pre_df_squad:\n",
    "                pre_df_squad['squad'].append(name)\n",
    "            else:\n",
    "                pre_df_squad['squad'] = [name]\n",
    "            for f in features_wanted_squad:\n",
    "                cell = row.find(\"td\",{\"data-stat\": f})\n",
    "                a = cell.text.strip().encode()\n",
    "                text=a.decode(\"utf-8\")\n",
    "                if(text == ''):\n",
    "                    text = '0'\n",
    "                if((f!='player')&(f!='nationality')&(f!='position')&(f!='squad')&(f!='age')&(f!='birth_year')&(f!='matches')):\n",
    "                    text = float(text.replace(',',''))\n",
    "                if f in pre_df_squad:\n",
    "                    pre_df_squad[f].append(text)\n",
    "                else:\n",
    "                    pre_df_squad[f] = [text]\n",
    "    df_squad = pd.DataFrame.from_dict(pre_df_squad)\n",
    "    return df_squad"
   ],
   "outputs": [],
   "metadata": {}
  },
  {
   "cell_type": "code",
   "execution_count": null,
   "source": [
    "def frame_for_category(category,top,end,features):\n",
    "    url = (top + category + end)\n",
    "    print(\"Current category :->{} \\n Feature :->{}\".format(category,features))\n",
    "    player_table, team_table = get_tables(url)\n",
    "    df_player = get_frame(features, player_table)\n",
    "    return df_player"
   ],
   "outputs": [],
   "metadata": {}
  },
  {
   "cell_type": "code",
   "execution_count": null,
   "source": [
    "def frame_for_category_team(category,top,end,features):\n",
    "    url = (top + category + end)\n",
    "   \n",
    "    player_table, team_table = get_tables(url)\n",
    "    df_team = get_frame_team(features, team_table)\n",
    "    return df_team"
   ],
   "outputs": [],
   "metadata": {}
  },
  {
   "cell_type": "code",
   "execution_count": null,
   "source": [
    "#Function to get the player data for outfield player, includes all categories - standard stats, shooting\n",
    "#passing, passing types, goal and shot creation, defensive actions, possession, and miscallaneous\n",
    "def get_outfield_data(top, end):\n",
    "    df1 = frame_for_category('stats',top,end,stats)\n",
    "    df2 = frame_for_category('shooting',top,end,shooting2)\n",
    "    df3 = frame_for_category('passing',top,end,passing2)\n",
    "    df4 = frame_for_category('passing_types',top,end,passing_types2)\n",
    "    df5 = frame_for_category('gca',top,end,gca2)\n",
    "    df6 = frame_for_category('defense',top,end,defense2)\n",
    "    df7 = frame_for_category('possession',top,end,possession2)\n",
    "    df8 = frame_for_category('misc',top,end,misc2)\n",
    "    df = pd.concat([df1, df2, df3, df4,  df5,df6, df7, df8], axis=1)\n",
    "    df = df.loc[:,~df.columns.duplicated()]\n",
    "    return df\n",
    "\n"
   ],
   "outputs": [],
   "metadata": {}
  },
  {
   "cell_type": "code",
   "execution_count": null,
   "source": [
    "#Function to get keeping and advance goalkeeping data\n",
    "def get_keeper_data(top,end):\n",
    "    df1 = frame_for_category('keepers',top,end,keepers)\n",
    "    df2 = frame_for_category('keepersadv',top,end,keepersadv2)\n",
    "    df = pd.concat([df1, df2], axis=1)\n",
    "    df = df.loc[:,~df.columns.duplicated()]\n",
    "    return df"
   ],
   "outputs": [],
   "metadata": {}
  },
  {
   "cell_type": "code",
   "execution_count": null,
   "source": [
    "#Function to get team-wise data accross all categories as mentioned above\n",
    "def get_team_data(top,end):\n",
    "    df1 = frame_for_category_team('stats',top,end,stats3)\n",
    "    df2 = frame_for_category_team('keepers',top,end,keepers3)\n",
    "    df3 = frame_for_category_team('keepersadv',top,end,keepersadv2)\n",
    "    df4 = frame_for_category_team('shooting',top,end,shooting3)\n",
    "    df5 = frame_for_category_team('passing',top,end,passing2)\n",
    "    df6 = frame_for_category_team('passing_types',top,end,passing_types2)\n",
    "    df7 = frame_for_category_team('gca',top,end,gca2)\n",
    "    df8 = frame_for_category_team('defense',top,end,defense2)\n",
    "    df9 = frame_for_category_team('possession',top,end,possession2)\n",
    "    df10 = frame_for_category_team('misc',top,end,misc2)\n",
    "    df = pd.concat([df1, df2, df3, df4, df5, df6, df7, df8, df9, df10], axis=1)\n",
    "    df = df.loc[:,~df.columns.duplicated()]\n",
    "    return df"
   ],
   "outputs": [],
   "metadata": {}
  },
  {
   "cell_type": "code",
   "execution_count": null,
   "source": [
    "#This cell is to get the outfield player data for any competition\n",
    "\n",
    "#Go to the 'Standard stats' page of the league\n",
    "#For Premier League 2019/20, the link is this: https://fbref.com/en/comps/9/stats/Premier-League-Stats\n",
    "#Remove the 'stats', and pass the first and third part of the link as parameters like below\n",
    "df_outfield = get_outfield_data('https://fbref.com/en/comps/9/','/Premier-League-Stats')\n",
    "\n",
    "#Save csv file to Desktop\n",
    "df_outfield.to_csv('PL2021_Outfield.csv',index=False)\n",
    "\n",
    "print('Done')"
   ],
   "outputs": [],
   "metadata": {}
  },
  {
   "cell_type": "code",
   "execution_count": null,
   "source": [
    "# Get the EPL team data - Club du championnat anglais\n",
    "df_epl_team = get_team_data('https://fbref.com/en/comps/9/','/Premier-League-Stats')\n",
    "#Save csv file to Desktop\n",
    "df_epl_team.to_csv('PL2021_TEAM.csv',index=False)\n",
    "print('Done')"
   ],
   "outputs": [],
   "metadata": {}
  },
  {
   "cell_type": "code",
   "execution_count": null,
   "source": [
    "# Get outfield player data for bundesliga - Championnat Allemand\n",
    "df_bundesliga = get_outfield_data('https://fbref.com/en/comps/20/','/Bundesliga-Stats')\n",
    "\n",
    "#Save csv file to Desktop\n",
    "df_bundesliga.to_csv('BundesLiga2021_Outfield.csv',index=False)\n",
    "\n",
    "print('Done')"
   ],
   "outputs": [],
   "metadata": {}
  },
  {
   "cell_type": "code",
   "execution_count": null,
   "source": [
    "# Get la bundesliga team data- Club du Championnat Allemand\n",
    "df_bundesliga_team = get_team_data('https://fbref.com/en/comps/20/','/Bundesliga-Stats')\n",
    "\n",
    "#Save csv file to Desktop\n",
    "df_bundesliga_team.to_csv('BundesLiga2021_TEAM.csv',index=False)\n",
    "\n",
    "print('Done')"
   ],
   "outputs": [],
   "metadata": {}
  },
  {
   "cell_type": "code",
   "execution_count": null,
   "source": [
    "# Get outfield player data for league 1 - Championat Francais\n",
    "df_league1 = get_outfield_data('https://fbref.com/en/comps/13/','/Ligue-1-Stats')\n",
    "\n",
    "#Save csv file to Desktop\n",
    "df_league1.to_csv('LeagueUne2021_Outfield.csv',index=False)\n",
    "\n",
    "print('Done')"
   ],
   "outputs": [],
   "metadata": {}
  },
  {
   "cell_type": "code",
   "execution_count": null,
   "source": [
    "# Get La League 1 team data - Club du Championat Francais\n",
    "df_league1_team = get_team_data('https://fbref.com/en/comps/13/','/Ligue-1-Stats')\n",
    "\n",
    "#Save csv file to Desktop\n",
    "df_league1_team.to_csv('LeagueUne2021_TEAM.csv',index=False)\n",
    "\n",
    "print('Done')"
   ],
   "outputs": [],
   "metadata": {}
  },
  {
   "cell_type": "code",
   "execution_count": null,
   "source": [
    "# Get outfield player data for Serie A - Championnat Italien\n",
    "df_serieA = get_outfield_data('https://fbref.com/en/comps/11/','/Serie-A-Stats')\n",
    "\n",
    "#Save csv file to Desktop\n",
    "df_serieA.to_csv('SerieA2021_Outfield.csv',index=False)\n",
    "\n",
    "print('Done')"
   ],
   "outputs": [],
   "metadata": {}
  },
  {
   "cell_type": "code",
   "execution_count": null,
   "source": [
    "# Get serie A team data - Club du Championnat Italien\n",
    "df_serieA_team = get_team_data('https://fbref.com/en/comps/11/','/Serie-A-Stats')\n",
    "\n",
    "#Save csv file to Desktop\n",
    "df_serieA_team .to_csv('SerieA2021_TEAM.csv',index=False)\n",
    "\n",
    "print('Done')"
   ],
   "outputs": [],
   "metadata": {}
  },
  {
   "cell_type": "code",
   "execution_count": null,
   "source": [
    "# Get outfield player data for La Liga - Championnat Espagnol\n",
    "df_laliga = get_outfield_data('https://fbref.com/en/comps/12/','/La-Liga-Stats')\n",
    "\n",
    "#Save csv file to Desktop\n",
    "df_laliga.to_csv('LaLiga2021_Outfield.csv',index=False)\n",
    "\n",
    "print('Done')"
   ],
   "outputs": [],
   "metadata": {}
  },
  {
   "cell_type": "code",
   "execution_count": null,
   "source": [
    "# Get outfield player data for serie A - Championnat Espagnol\n",
    "df_laliga_team = get_team_data('https://fbref.com/en/comps/12/','/La-Liga-Stats')\n",
    "\n",
    "#Save csv file to Desktop\n",
    "df_laliga_team.to_csv('LaLiga2021_TEAM.csv',index=False)\n",
    "\n",
    "print('Done')"
   ],
   "outputs": [],
   "metadata": {}
  },
  {
   "cell_type": "code",
   "execution_count": null,
   "source": [
    "df_laliga.columns"
   ],
   "outputs": [],
   "metadata": {}
  },
  {
   "cell_type": "code",
   "execution_count": null,
   "source": [
    "df_serieA.columns"
   ],
   "outputs": [],
   "metadata": {}
  },
  {
   "cell_type": "code",
   "execution_count": null,
   "source": [
    "df_league1.columns"
   ],
   "outputs": [],
   "metadata": {}
  },
  {
   "cell_type": "code",
   "execution_count": null,
   "source": [
    "df_bundesliga.columns"
   ],
   "outputs": [],
   "metadata": {}
  },
  {
   "cell_type": "code",
   "execution_count": null,
   "source": [
    "df_epl = pd.read_csv(\"PL2021_Outfield.csv\")"
   ],
   "outputs": [],
   "metadata": {}
  },
  {
   "cell_type": "code",
   "execution_count": null,
   "source": [
    "frames = [df_bundesliga, df_laliga, df_league1, df_serieA,df_epl]"
   ],
   "outputs": [],
   "metadata": {}
  },
  {
   "cell_type": "code",
   "execution_count": null,
   "source": [
    "all_dataset = pd.concat(frames)"
   ],
   "outputs": [],
   "metadata": {}
  },
  {
   "cell_type": "code",
   "execution_count": null,
   "source": [
    "all_dataset.to_csv(\"5_BIG_EUROPEAN_LEAGUES.csv\")"
   ],
   "outputs": [],
   "metadata": {}
  },
  {
   "cell_type": "code",
   "execution_count": null,
   "source": [
    "big_5_european_url = \"https://fbref.com/en/comps/Big5/Big-5-European-Leagues-Stats\"\n"
   ],
   "outputs": [],
   "metadata": {}
  },
  {
   "cell_type": "code",
   "execution_count": null,
   "source": [
    "world_5_indicators = [\"squad\", \"country\", \"rank\", 'games', 'wins','draws','losses', 'goals_for', \"goals_against\",\"goal_diff\", 'points', 'points_avg', \"xg_for\", \"xg_against\", \"xg_diff\", \"xg_diff_per90\", \"last_5\", \"attendance_per_g\", \"top_team_scorers\", \"top_keeper\"]\n"
   ],
   "outputs": [],
   "metadata": {}
  }
 ],
 "metadata": {
  "orig_nbformat": 4,
  "language_info": {
   "name": "python",
   "version": "3.8.8",
   "mimetype": "text/x-python",
   "codemirror_mode": {
    "name": "ipython",
    "version": 3
   },
   "pygments_lexer": "ipython3",
   "nbconvert_exporter": "python",
   "file_extension": ".py"
  },
  "kernelspec": {
   "name": "python3",
   "display_name": "Python 3.8.8 64-bit ('imad': conda)"
  },
  "interpreter": {
   "hash": "c009bdc53ccbbd0dc079b143b735d9d9f392397f9be3177e50999814b4e4127e"
  }
 },
 "nbformat": 4,
 "nbformat_minor": 2
}