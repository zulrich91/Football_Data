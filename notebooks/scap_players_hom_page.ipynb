{
 "cells": [
  {
   "cell_type": "code",
   "execution_count": 172,
   "source": [
    "import pandas as pd\n",
    "import requests\n",
    "from bs4 import BeautifulSoup\n",
    "import numpy as np\n",
    "import re\n",
    "import os\n",
    "import unidecode\n",
    "import sys, getopt\n",
    "import csv"
   ],
   "outputs": [],
   "metadata": {}
  },
  {
   "cell_type": "code",
   "execution_count": 181,
   "source": [
    "#Functions to get the data in a dataframe using BeautifulSoup\n",
    "def get_tables(url):\n",
    "    res = requests.get(url)\n",
    "    ## The next two lines get around the issue with comments breaking the parsing.\n",
    "    comm = re.compile(\"<!--|-->\")\n",
    "    soup = BeautifulSoup(comm.sub(\"\",res.text),\"html.parser\")\n",
    "    all_tables = soup.findAll(\"tbody\")\n",
    "\n",
    "    return all_tables"
   ],
   "outputs": [],
   "metadata": {}
  },
  {
   "cell_type": "code",
   "execution_count": 99,
   "source": [
    "# Fields of interest\n",
    "similar_players_fields = [\"player\",  \"nationality\", \"squad\", \"compare\"]\n",
    "sub_features = [\"player_url\", \"nation_url\",\"squad_url\", \"comparison_url\"]\n",
    "similar_players_fields = [\"nationality\"]"
   ],
   "outputs": [],
   "metadata": {}
  },
  {
   "cell_type": "code",
   "execution_count": 178,
   "source": [
    "# Subsequently, the URL will come from the players datasets\n",
    "# This is just a sample URL to ensure that we can get all the information for the player\n",
    "url = \"https://fbref.com/en/players/d70ce98e/Lionel-Messi\"\n"
   ],
   "outputs": [],
   "metadata": {}
  },
  {
   "cell_type": "code",
   "execution_count": 179,
   "source": [
    "players_name = url.split(\"/\")[-1]\n",
    "print(players_name)"
   ],
   "outputs": [
    {
     "output_type": "stream",
     "name": "stdout",
     "text": [
      "Lionel-Messi\n"
     ]
    }
   ],
   "metadata": {}
  },
  {
   "cell_type": "code",
   "execution_count": 180,
   "source": [
    "def get_frame_similar_players(table):\n",
    "    main_player = []\n",
    "    player_name = []\n",
    "    player_url = []\n",
    "    nationality =[]\n",
    "    nation_url = []\n",
    "    squad = []\n",
    "    squad_url = []\n",
    "    comparison_url = []\n",
    "    rows_player = table.find_all('tr')\n",
    "    for row in rows_player:\n",
    "        if(row.find('th',{\"scope\":\"row\"}) != None):\n",
    "\n",
    "                links = row.findAll(\"a\")\n",
    "                player_url.append(links[0].get(\"href\"))\n",
    "                player_name.append(links[0].text)\n",
    "\n",
    "                nation_url.append(links[1].get(\"href\"))\n",
    "                nationality.append(links[1].text)\n",
    "\n",
    "                squad.append(links[2].text)\n",
    "                squad_url.append(links[2].get(\"href\"))\n",
    "\n",
    "                comparison_url.append(links[3].get(\"href\"))\n",
    "\n",
    "                main_player.append(players_name)\n",
    "                \n",
    "\n",
    "    df_similar_players = pd.DataFrame({  \"main_player\":main_player,\n",
    "                                        \"compared_player\":player_name, \n",
    "                                        \"player_url\":player_url,\n",
    "                                        \"nationality\":nationality,\n",
    "                                        \"nationality_url\":nation_url,\n",
    "                                        \"squad\":squad,\n",
    "                                        \"squad_url\": squad_url,\n",
    "                                        \"comparison_url\": comparison_url\n",
    "                                    })\n",
    "    return df_similar_players"
   ],
   "outputs": [],
   "metadata": {}
  },
  {
   "cell_type": "code",
   "execution_count": 182,
   "source": [
    "similar_players_table = get_tables(url)[2]"
   ],
   "outputs": [],
   "metadata": {}
  },
  {
   "cell_type": "code",
   "execution_count": 174,
   "source": [
    "df_similar_players = get_frame_similar_players(similar_players_table)   "
   ],
   "outputs": [],
   "metadata": {}
  },
  {
   "cell_type": "code",
   "execution_count": null,
   "source": [
    "df_similar_players.head()"
   ],
   "outputs": [],
   "metadata": {}
  },
  {
   "cell_type": "code",
   "execution_count": 167,
   "source": [
    "try:\n",
    "    players_directory = os.mkdir(\"../data/\"+players_name+\"/\")\n",
    "except Exception as e:\n",
    "    print(e)\n"
   ],
   "outputs": [
    {
     "output_type": "stream",
     "name": "stdout",
     "text": [
      "[Errno 17] File exists: '../data/Lionel-Messi/'\n"
     ]
    }
   ],
   "metadata": {}
  },
  {
   "cell_type": "code",
   "execution_count": 176,
   "source": [
    "df_similar_players.to_csv(\"../data/\"+players_name+\"/\"+players_name+\"-compare.csv\", index=False)"
   ],
   "outputs": [],
   "metadata": {}
  },
  {
   "cell_type": "code",
   "execution_count": null,
   "source": [
    "# Possible condition to check to ensure that the currently visited player has a table comparing him with others player will entail checking \n",
    "# the number of tables contained on his home page. Less than 14 tables could imply that the user is not been compared to other players. "
   ],
   "outputs": [],
   "metadata": {}
  },
  {
   "cell_type": "code",
   "execution_count": 185,
   "source": [
    "similar_forwards_tables = get_tables(url)[3]"
   ],
   "outputs": [],
   "metadata": {}
  },
  {
   "cell_type": "code",
   "execution_count": 187,
   "source": [
    "df_similar_forwards_tables = get_frame_similar_players(similar_forwards_tables)"
   ],
   "outputs": [],
   "metadata": {}
  },
  {
   "cell_type": "code",
   "execution_count": 190,
   "source": [
    "df_similar_forwards_tables.to_csv(\"../data/\"+players_name+\"/\"+players_name+\"_forward_player_compare.csv\", index=False)"
   ],
   "outputs": [],
   "metadata": {}
  },
  {
   "cell_type": "code",
   "execution_count": null,
   "source": [],
   "outputs": [],
   "metadata": {}
  }
 ],
 "metadata": {
  "orig_nbformat": 4,
  "language_info": {
   "name": "python",
   "version": "3.8.8",
   "mimetype": "text/x-python",
   "codemirror_mode": {
    "name": "ipython",
    "version": 3
   },
   "pygments_lexer": "ipython3",
   "nbconvert_exporter": "python",
   "file_extension": ".py"
  },
  "kernelspec": {
   "name": "python3",
   "display_name": "Python 3.8.8 64-bit ('imad': conda)"
  },
  "interpreter": {
   "hash": "c009bdc53ccbbd0dc079b143b735d9d9f392397f9be3177e50999814b4e4127e"
  }
 },
 "nbformat": 4,
 "nbformat_minor": 2
}