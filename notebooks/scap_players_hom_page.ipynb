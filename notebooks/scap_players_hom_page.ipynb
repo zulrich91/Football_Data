{
 "cells": [
  {
   "cell_type": "code",
   "execution_count": 172,
   "source": [
    "import pandas as pd\n",
    "import requests\n",
    "from bs4 import BeautifulSoup\n",
    "import numpy as np\n",
    "import re\n",
    "import os\n",
    "import unidecode\n",
    "import sys, getopt\n",
    "import csv"
   ],
   "outputs": [],
   "metadata": {}
  },
  {
   "cell_type": "code",
   "execution_count": 181,
   "source": [
    "#Functions to get the data in a dataframe using BeautifulSoup\n",
    "def get_tables(url):\n",
    "    res = requests.get(url)\n",
    "    ## The next two lines get around the issue with comments breaking the parsing.\n",
    "    comm = re.compile(\"<!--|-->\")\n",
    "    soup = BeautifulSoup(comm.sub(\"\",res.text),\"html.parser\")\n",
    "    all_tables = soup.findAll(\"tbody\")\n",
    "\n",
    "    return all_tables"
   ],
   "outputs": [],
   "metadata": {}
  },
  {
   "cell_type": "code",
   "execution_count": 99,
   "source": [
    "# Fields of interest\n",
    "similar_players_fields = [\"player\",  \"nationality\", \"squad\", \"compare\"]\n",
    "sub_features = [\"player_url\", \"nation_url\",\"squad_url\", \"comparison_url\"]\n",
    "similar_players_fields = [\"nationality\"]"
   ],
   "outputs": [],
   "metadata": {}
  },
  {
   "cell_type": "code",
   "execution_count": 178,
   "source": [
    "# Subsequently, the URL will come from the players datasets\n",
    "# This is just a sample URL to ensure that we can get all the information for the player\n",
    "url = \"https://fbref.com/en/players/d70ce98e/Lionel-Messi\"\n"
   ],
   "outputs": [],
   "metadata": {}
  },
  {
   "cell_type": "code",
   "execution_count": 179,
   "source": [
    "players_name = url.split(\"/\")[-1]\n",
    "print(players_name)"
   ],
   "outputs": [
    {
     "output_type": "stream",
     "name": "stdout",
     "text": [
      "Lionel-Messi\n"
     ]
    }
   ],
   "metadata": {}
  },
  {
   "cell_type": "code",
   "execution_count": 180,
   "source": [
    "def get_frame_similar_players(table):\n",
    "    main_player = []\n",
    "    player_name = []\n",
    "    player_url = []\n",
    "    nationality =[]\n",
    "    nation_url = []\n",
    "    squad = []\n",
    "    squad_url = []\n",
    "    comparison_url = []\n",
    "    rows_player = table.find_all('tr')\n",
    "    for row in rows_player:\n",
    "        if(row.find('th',{\"scope\":\"row\"}) != None):\n",
    "\n",
    "                links = row.findAll(\"a\")\n",
    "                player_url.append(links[0].get(\"href\"))\n",
    "                player_name.append(links[0].text)\n",
    "\n",
    "                nation_url.append(links[1].get(\"href\"))\n",
    "                nationality.append(links[1].text)\n",
    "\n",
    "                squad.append(links[2].text)\n",
    "                squad_url.append(links[2].get(\"href\"))\n",
    "\n",
    "                comparison_url.append(links[3].get(\"href\"))\n",
    "\n",
    "                main_player.append(players_name)\n",
    "                \n",
    "\n",
    "    df_similar_players = pd.DataFrame({  \"main_player\":main_player,\n",
    "                                        \"compared_player\":player_name, \n",
    "                                        \"player_url\":player_url,\n",
    "                                        \"nationality\":nationality,\n",
    "                                        \"nationality_url\":nation_url,\n",
    "                                        \"squad\":squad,\n",
    "                                        \"squad_url\": squad_url,\n",
    "                                        \"comparison_url\": comparison_url\n",
    "                                    })\n",
    "    return df_similar_players"
   ],
   "outputs": [],
   "metadata": {}
  },
  {
   "cell_type": "code",
   "execution_count": 182,
   "source": [
    "similar_players_table = get_tables(url)[2]"
   ],
   "outputs": [],
   "metadata": {}
  },
  {
   "cell_type": "code",
   "execution_count": 174,
   "source": [
    "df_similar_players = get_frame_similar_players(similar_players_table)   "
   ],
   "outputs": [],
   "metadata": {}
  },
  {
   "cell_type": "code",
   "execution_count": null,
   "source": [
    "df_similar_players.head()"
   ],
   "outputs": [],
   "metadata": {}
  },
  {
   "cell_type": "code",
   "execution_count": 167,
   "source": [
    "try:\n",
    "    players_directory = os.mkdir(\"../data/\"+players_name+\"/\")\n",
    "except Exception as e:\n",
    "    print(e)\n"
   ],
   "outputs": [
    {
     "output_type": "stream",
     "name": "stdout",
     "text": [
      "[Errno 17] File exists: '../data/Lionel-Messi/'\n"
     ]
    }
   ],
   "metadata": {}
  },
  {
   "cell_type": "code",
   "execution_count": 176,
   "source": [
    "df_similar_players.to_csv(\"../data/\"+players_name+\"/\"+players_name+\"-compare.csv\", index=False)"
   ],
   "outputs": [],
   "metadata": {}
  },
  {
   "cell_type": "code",
   "execution_count": null,
   "source": [
    "# Possible condition to check to ensure that the currently visited player has a table comparing him with others player will entail checking \n",
    "# the number of tables contained on his home page. Less than 14 tables could imply that the user is not been compared to other players. "
   ],
   "outputs": [],
   "metadata": {}
  },
  {
   "cell_type": "code",
   "execution_count": 185,
   "source": [
    "similar_forwards_tables = get_tables(url)[3]"
   ],
   "outputs": [],
   "metadata": {}
  },
  {
   "cell_type": "code",
   "execution_count": 187,
   "source": [
    "df_similar_forwards_tables = get_frame_similar_players(similar_forwards_tables)"
   ],
   "outputs": [],
   "metadata": {}
  },
  {
   "cell_type": "code",
   "execution_count": 190,
   "source": [
    "df_similar_forwards_tables.to_csv(\"../data/\"+players_name+\"/\"+players_name+\"_forward_player_compare.csv\", index=False)"
   ],
   "outputs": [],
   "metadata": {}
  },
  {
   "cell_type": "code",
   "execution_count": 191,
   "source": [
    "df_similar_forwards_tables.head()"
   ],
   "outputs": [
    {
     "output_type": "execute_result",
     "data": {
      "text/plain": [
       "    main_player    compared_player                              player_url  \\\n",
       "0  Lionel-Messi      Karim Benzema      /en/players/70d74ece/Karim-Benzema   \n",
       "1  Lionel-Messi      Kylian Mbappé      /en/players/42fd9c7f/Kylian-Mbappe   \n",
       "2  Lionel-Messi      Memphis Depay      /en/players/8f696594/Memphis-Depay   \n",
       "3  Lionel-Messi  Cristiano Ronaldo  /en/players/dea698d9/Cristiano-Ronaldo   \n",
       "4  Lionel-Messi    Andrej Kramarić    /en/players/603cb947/Andrej-Kramaric   \n",
       "\n",
       "  nationality                       nationality_url                squad  \\\n",
       "0      fr FRA       /en/country/FRA/France-Football          Real Madrid   \n",
       "1      fr FRA       /en/country/FRA/France-Football  Paris Saint-Germain   \n",
       "2      nl NED  /en/country/NED/Netherlands-Football            Barcelona   \n",
       "3      pt POR     /en/country/POR/Portugal-Football    Manchester United   \n",
       "4      hr CRO      /en/country/CRO/Croatia-Football           Hoffenheim   \n",
       "\n",
       "                                       squad_url  \\\n",
       "0          /en/squads/53a2f082/Real-Madrid-Stats   \n",
       "1  /en/squads/e2d8892c/Paris-Saint-Germain-Stats   \n",
       "2            /en/squads/206d90db/Barcelona-Stats   \n",
       "3    /en/squads/19538871/Manchester-United-Stats   \n",
       "4           /en/squads/033ea6b8/Hoffenheim-Stats   \n",
       "\n",
       "                                      comparison_url  \n",
       "0  /en/stathead/player_comparison.cgi?show_form=1...  \n",
       "1  /en/stathead/player_comparison.cgi?show_form=1...  \n",
       "2  /en/stathead/player_comparison.cgi?show_form=1...  \n",
       "3  /en/stathead/player_comparison.cgi?show_form=1...  \n",
       "4  /en/stathead/player_comparison.cgi?show_form=1...  "
      ],
      "text/html": [
       "<div>\n",
       "<style scoped>\n",
       "    .dataframe tbody tr th:only-of-type {\n",
       "        vertical-align: middle;\n",
       "    }\n",
       "\n",
       "    .dataframe tbody tr th {\n",
       "        vertical-align: top;\n",
       "    }\n",
       "\n",
       "    .dataframe thead th {\n",
       "        text-align: right;\n",
       "    }\n",
       "</style>\n",
       "<table border=\"1\" class=\"dataframe\">\n",
       "  <thead>\n",
       "    <tr style=\"text-align: right;\">\n",
       "      <th></th>\n",
       "      <th>main_player</th>\n",
       "      <th>compared_player</th>\n",
       "      <th>player_url</th>\n",
       "      <th>nationality</th>\n",
       "      <th>nationality_url</th>\n",
       "      <th>squad</th>\n",
       "      <th>squad_url</th>\n",
       "      <th>comparison_url</th>\n",
       "    </tr>\n",
       "  </thead>\n",
       "  <tbody>\n",
       "    <tr>\n",
       "      <th>0</th>\n",
       "      <td>Lionel-Messi</td>\n",
       "      <td>Karim Benzema</td>\n",
       "      <td>/en/players/70d74ece/Karim-Benzema</td>\n",
       "      <td>fr FRA</td>\n",
       "      <td>/en/country/FRA/France-Football</td>\n",
       "      <td>Real Madrid</td>\n",
       "      <td>/en/squads/53a2f082/Real-Madrid-Stats</td>\n",
       "      <td>/en/stathead/player_comparison.cgi?show_form=1...</td>\n",
       "    </tr>\n",
       "    <tr>\n",
       "      <th>1</th>\n",
       "      <td>Lionel-Messi</td>\n",
       "      <td>Kylian Mbappé</td>\n",
       "      <td>/en/players/42fd9c7f/Kylian-Mbappe</td>\n",
       "      <td>fr FRA</td>\n",
       "      <td>/en/country/FRA/France-Football</td>\n",
       "      <td>Paris Saint-Germain</td>\n",
       "      <td>/en/squads/e2d8892c/Paris-Saint-Germain-Stats</td>\n",
       "      <td>/en/stathead/player_comparison.cgi?show_form=1...</td>\n",
       "    </tr>\n",
       "    <tr>\n",
       "      <th>2</th>\n",
       "      <td>Lionel-Messi</td>\n",
       "      <td>Memphis Depay</td>\n",
       "      <td>/en/players/8f696594/Memphis-Depay</td>\n",
       "      <td>nl NED</td>\n",
       "      <td>/en/country/NED/Netherlands-Football</td>\n",
       "      <td>Barcelona</td>\n",
       "      <td>/en/squads/206d90db/Barcelona-Stats</td>\n",
       "      <td>/en/stathead/player_comparison.cgi?show_form=1...</td>\n",
       "    </tr>\n",
       "    <tr>\n",
       "      <th>3</th>\n",
       "      <td>Lionel-Messi</td>\n",
       "      <td>Cristiano Ronaldo</td>\n",
       "      <td>/en/players/dea698d9/Cristiano-Ronaldo</td>\n",
       "      <td>pt POR</td>\n",
       "      <td>/en/country/POR/Portugal-Football</td>\n",
       "      <td>Manchester United</td>\n",
       "      <td>/en/squads/19538871/Manchester-United-Stats</td>\n",
       "      <td>/en/stathead/player_comparison.cgi?show_form=1...</td>\n",
       "    </tr>\n",
       "    <tr>\n",
       "      <th>4</th>\n",
       "      <td>Lionel-Messi</td>\n",
       "      <td>Andrej Kramarić</td>\n",
       "      <td>/en/players/603cb947/Andrej-Kramaric</td>\n",
       "      <td>hr CRO</td>\n",
       "      <td>/en/country/CRO/Croatia-Football</td>\n",
       "      <td>Hoffenheim</td>\n",
       "      <td>/en/squads/033ea6b8/Hoffenheim-Stats</td>\n",
       "      <td>/en/stathead/player_comparison.cgi?show_form=1...</td>\n",
       "    </tr>\n",
       "  </tbody>\n",
       "</table>\n",
       "</div>"
      ]
     },
     "metadata": {},
     "execution_count": 191
    }
   ],
   "metadata": {}
  },
  {
   "cell_type": "code",
   "execution_count": null,
   "source": [],
   "outputs": [],
   "metadata": {}
  }
 ],
 "metadata": {
  "orig_nbformat": 4,
  "language_info": {
   "name": "python",
   "version": "3.8.8",
   "mimetype": "text/x-python",
   "codemirror_mode": {
    "name": "ipython",
    "version": 3
   },
   "pygments_lexer": "ipython3",
   "nbconvert_exporter": "python",
   "file_extension": ".py"
  },
  "kernelspec": {
   "name": "python3",
   "display_name": "Python 3.8.8 64-bit ('imad': conda)"
  },
  "interpreter": {
   "hash": "c009bdc53ccbbd0dc079b143b735d9d9f392397f9be3177e50999814b4e4127e"
  }
 },
 "nbformat": 4,
 "nbformat_minor": 2
}