{
 "cells": [
  {
   "cell_type": "code",
   "execution_count": 2,
   "source": [
    "import pandas as pd\n",
    "import requests\n",
    "from bs4 import BeautifulSoup\n",
    "import numpy as np\n",
    "import re\n",
    "import sys, getopt\n",
    "import csv\n",
    "import unidecode"
   ],
   "outputs": [],
   "metadata": {}
  },
  {
   "cell_type": "code",
   "execution_count": 3,
   "source": [
    "HOME_PAGE = \"https://fbref.com/\"\n",
    "BASE_MATCH_LOG_URL = \"https://fbref.com/en/players/19cda00b/matchlogs/2021-2022/summary/Angel-Di-Maria-Match-Logs\"\n",
    "BASE_PLAYER_URL = \"https://fbref.com/en/players/\""
   ],
   "outputs": [],
   "metadata": {}
  },
  {
   "cell_type": "code",
   "execution_count": 4,
   "source": [
    "def unidecodePlayersName(name):\n",
    "    players_name = unidecode.unidecode(name)\n",
    "    return players_name"
   ],
   "outputs": [],
   "metadata": {}
  },
  {
   "cell_type": "code",
   "execution_count": 5,
   "source": [
    "def joined_player_name(name):\n",
    "    return \"-\".join(name.split(\" \"))"
   ],
   "outputs": [],
   "metadata": {}
  },
  {
   "cell_type": "code",
   "execution_count": 6,
   "source": [
    "def generatePlayersUrl(id, name):\n",
    "    players_name= unidecodePlayersName(name)\n",
    "    players_name = joined_player_name(players_name)\n",
    "    url = BASE_PLAYER_URL + id + \"/\" + players_name\n",
    "    return url"
   ],
   "outputs": [],
   "metadata": {}
  },
  {
   "cell_type": "code",
   "execution_count": 7,
   "source": [
    "def generatePlayerMatchLogsUrl(id,name,path):\n",
    "    players_name= unidecodePlayersName(name)\n",
    "    log_name = joined_player_name(players_name) + \"-Match-Logs\"\n",
    "    matchLogUrl = BASE_PLAYER_URL + id + \"/matchlogs/\" + path.split(\"/\")[-3] + \"/summary/\" + log_name\n",
    "    return matchLogUrl"
   ],
   "outputs": [],
   "metadata": {}
  },
  {
   "cell_type": "code",
   "execution_count": 10,
   "source": [
    "df_joueur = pd.read_csv(\"../data/joueur.csv\")"
   ],
   "outputs": [],
   "metadata": {}
  },
  {
   "cell_type": "code",
   "execution_count": 11,
   "source": [
    "df_joueur.head()"
   ],
   "outputs": [
    {
     "output_type": "execute_result",
     "data": {
      "text/plain": [
       "         id               Joueur\n",
       "0  ad713dff         Jamal Aabbou\n",
       "1  13792bac         Rayane Aabid\n",
       "2  9a5b8092        Mohamed Aakib\n",
       "3  a7e4760c        Ismael Aaneba\n",
       "4  5f09991f  Patrick van Aanholt"
      ],
      "text/html": [
       "<div>\n",
       "<style scoped>\n",
       "    .dataframe tbody tr th:only-of-type {\n",
       "        vertical-align: middle;\n",
       "    }\n",
       "\n",
       "    .dataframe tbody tr th {\n",
       "        vertical-align: top;\n",
       "    }\n",
       "\n",
       "    .dataframe thead th {\n",
       "        text-align: right;\n",
       "    }\n",
       "</style>\n",
       "<table border=\"1\" class=\"dataframe\">\n",
       "  <thead>\n",
       "    <tr style=\"text-align: right;\">\n",
       "      <th></th>\n",
       "      <th>id</th>\n",
       "      <th>Joueur</th>\n",
       "    </tr>\n",
       "  </thead>\n",
       "  <tbody>\n",
       "    <tr>\n",
       "      <th>0</th>\n",
       "      <td>ad713dff</td>\n",
       "      <td>Jamal Aabbou</td>\n",
       "    </tr>\n",
       "    <tr>\n",
       "      <th>1</th>\n",
       "      <td>13792bac</td>\n",
       "      <td>Rayane Aabid</td>\n",
       "    </tr>\n",
       "    <tr>\n",
       "      <th>2</th>\n",
       "      <td>9a5b8092</td>\n",
       "      <td>Mohamed Aakib</td>\n",
       "    </tr>\n",
       "    <tr>\n",
       "      <th>3</th>\n",
       "      <td>a7e4760c</td>\n",
       "      <td>Ismael Aaneba</td>\n",
       "    </tr>\n",
       "    <tr>\n",
       "      <th>4</th>\n",
       "      <td>5f09991f</td>\n",
       "      <td>Patrick van Aanholt</td>\n",
       "    </tr>\n",
       "  </tbody>\n",
       "</table>\n",
       "</div>"
      ]
     },
     "metadata": {},
     "execution_count": 11
    }
   ],
   "metadata": {}
  },
  {
   "cell_type": "code",
   "execution_count": 12,
   "source": [
    "df_joueur.columns = [\"id\", \"name\"]"
   ],
   "outputs": [],
   "metadata": {}
  },
  {
   "cell_type": "code",
   "execution_count": 13,
   "source": [
    "df_joueur.name = df_joueur.name.apply(unidecodePlayersName)"
   ],
   "outputs": [],
   "metadata": {}
  },
  {
   "cell_type": "code",
   "execution_count": 14,
   "source": [
    "df_joueur[df_joueur.name == \"Angel Di Maria\"]"
   ],
   "outputs": [
    {
     "output_type": "execute_result",
     "data": {
      "text/plain": [
       "            id            name\n",
       "6091  19cda00b  Angel Di Maria"
      ],
      "text/html": [
       "<div>\n",
       "<style scoped>\n",
       "    .dataframe tbody tr th:only-of-type {\n",
       "        vertical-align: middle;\n",
       "    }\n",
       "\n",
       "    .dataframe tbody tr th {\n",
       "        vertical-align: top;\n",
       "    }\n",
       "\n",
       "    .dataframe thead th {\n",
       "        text-align: right;\n",
       "    }\n",
       "</style>\n",
       "<table border=\"1\" class=\"dataframe\">\n",
       "  <thead>\n",
       "    <tr style=\"text-align: right;\">\n",
       "      <th></th>\n",
       "      <th>id</th>\n",
       "      <th>name</th>\n",
       "    </tr>\n",
       "  </thead>\n",
       "  <tbody>\n",
       "    <tr>\n",
       "      <th>6091</th>\n",
       "      <td>19cda00b</td>\n",
       "      <td>Angel Di Maria</td>\n",
       "    </tr>\n",
       "  </tbody>\n",
       "</table>\n",
       "</div>"
      ]
     },
     "metadata": {},
     "execution_count": 14
    }
   ],
   "metadata": {}
  },
  {
   "cell_type": "code",
   "execution_count": 15,
   "source": [
    "df_joueur[\"url\"] = df_joueur.apply(lambda x : generatePlayersUrl(x[\"id\"], x[\"name\"]), axis=1)"
   ],
   "outputs": [],
   "metadata": {}
  },
  {
   "cell_type": "code",
   "execution_count": 16,
   "source": [
    "\n",
    "df_joueur[\"match_logs\"] = df_joueur.apply(lambda x : generatePlayerMatchLogsUrl(x[\"id\"], x[\"name\"], BASE_MATCH_LOG_URL), axis=1)"
   ],
   "outputs": [],
   "metadata": {}
  },
  {
   "cell_type": "code",
   "execution_count": 17,
   "source": [
    "df_joueur.head()"
   ],
   "outputs": [
    {
     "output_type": "execute_result",
     "data": {
      "text/plain": [
       "         id                 name  \\\n",
       "0  ad713dff         Jamal Aabbou   \n",
       "1  13792bac         Rayane Aabid   \n",
       "2  9a5b8092        Mohamed Aakib   \n",
       "3  a7e4760c        Ismael Aaneba   \n",
       "4  5f09991f  Patrick van Aanholt   \n",
       "\n",
       "                                                 url  \\\n",
       "0  https://fbref.com/en/players/ad713dff/Jamal-Aa...   \n",
       "1  https://fbref.com/en/players/13792bac/Rayane-A...   \n",
       "2  https://fbref.com/en/players/9a5b8092/Mohamed-...   \n",
       "3  https://fbref.com/en/players/a7e4760c/Ismael-A...   \n",
       "4  https://fbref.com/en/players/5f09991f/Patrick-...   \n",
       "\n",
       "                                          match_logs  \n",
       "0  https://fbref.com/en/players/ad713dff/matchlog...  \n",
       "1  https://fbref.com/en/players/13792bac/matchlog...  \n",
       "2  https://fbref.com/en/players/9a5b8092/matchlog...  \n",
       "3  https://fbref.com/en/players/a7e4760c/matchlog...  \n",
       "4  https://fbref.com/en/players/5f09991f/matchlog...  "
      ],
      "text/html": [
       "<div>\n",
       "<style scoped>\n",
       "    .dataframe tbody tr th:only-of-type {\n",
       "        vertical-align: middle;\n",
       "    }\n",
       "\n",
       "    .dataframe tbody tr th {\n",
       "        vertical-align: top;\n",
       "    }\n",
       "\n",
       "    .dataframe thead th {\n",
       "        text-align: right;\n",
       "    }\n",
       "</style>\n",
       "<table border=\"1\" class=\"dataframe\">\n",
       "  <thead>\n",
       "    <tr style=\"text-align: right;\">\n",
       "      <th></th>\n",
       "      <th>id</th>\n",
       "      <th>name</th>\n",
       "      <th>url</th>\n",
       "      <th>match_logs</th>\n",
       "    </tr>\n",
       "  </thead>\n",
       "  <tbody>\n",
       "    <tr>\n",
       "      <th>0</th>\n",
       "      <td>ad713dff</td>\n",
       "      <td>Jamal Aabbou</td>\n",
       "      <td>https://fbref.com/en/players/ad713dff/Jamal-Aa...</td>\n",
       "      <td>https://fbref.com/en/players/ad713dff/matchlog...</td>\n",
       "    </tr>\n",
       "    <tr>\n",
       "      <th>1</th>\n",
       "      <td>13792bac</td>\n",
       "      <td>Rayane Aabid</td>\n",
       "      <td>https://fbref.com/en/players/13792bac/Rayane-A...</td>\n",
       "      <td>https://fbref.com/en/players/13792bac/matchlog...</td>\n",
       "    </tr>\n",
       "    <tr>\n",
       "      <th>2</th>\n",
       "      <td>9a5b8092</td>\n",
       "      <td>Mohamed Aakib</td>\n",
       "      <td>https://fbref.com/en/players/9a5b8092/Mohamed-...</td>\n",
       "      <td>https://fbref.com/en/players/9a5b8092/matchlog...</td>\n",
       "    </tr>\n",
       "    <tr>\n",
       "      <th>3</th>\n",
       "      <td>a7e4760c</td>\n",
       "      <td>Ismael Aaneba</td>\n",
       "      <td>https://fbref.com/en/players/a7e4760c/Ismael-A...</td>\n",
       "      <td>https://fbref.com/en/players/a7e4760c/matchlog...</td>\n",
       "    </tr>\n",
       "    <tr>\n",
       "      <th>4</th>\n",
       "      <td>5f09991f</td>\n",
       "      <td>Patrick van Aanholt</td>\n",
       "      <td>https://fbref.com/en/players/5f09991f/Patrick-...</td>\n",
       "      <td>https://fbref.com/en/players/5f09991f/matchlog...</td>\n",
       "    </tr>\n",
       "  </tbody>\n",
       "</table>\n",
       "</div>"
      ]
     },
     "metadata": {},
     "execution_count": 17
    }
   ],
   "metadata": {}
  },
  {
   "cell_type": "code",
   "execution_count": 18,
   "source": [
    "df_joueur[\"match_logs\"][0]"
   ],
   "outputs": [
    {
     "output_type": "execute_result",
     "data": {
      "text/plain": [
       "'https://fbref.com/en/players/ad713dff/matchlogs/2021-2022/summary/Jamal-Aabbou-Match-Logs'"
      ]
     },
     "metadata": {},
     "execution_count": 18
    }
   ],
   "metadata": {}
  },
  {
   "cell_type": "code",
   "execution_count": 19,
   "source": [
    "df_joueur.shape"
   ],
   "outputs": [
    {
     "output_type": "execute_result",
     "data": {
      "text/plain": [
       "(27101, 4)"
      ]
     },
     "metadata": {},
     "execution_count": 19
    }
   ],
   "metadata": {}
  },
  {
   "cell_type": "code",
   "execution_count": 20,
   "source": [
    "df_joueur.to_csv(\"../data/joueur_url.csv\", index=False)"
   ],
   "outputs": [],
   "metadata": {}
  },
  {
   "cell_type": "code",
   "execution_count": null,
   "source": [],
   "outputs": [],
   "metadata": {}
  }
 ],
 "metadata": {
  "orig_nbformat": 4,
  "language_info": {
   "name": "python",
   "version": "3.8.8",
   "mimetype": "text/x-python",
   "codemirror_mode": {
    "name": "ipython",
    "version": 3
   },
   "pygments_lexer": "ipython3",
   "nbconvert_exporter": "python",
   "file_extension": ".py"
  },
  "kernelspec": {
   "name": "python3",
   "display_name": "Python 3.8.8 64-bit ('imad': conda)"
  },
  "interpreter": {
   "hash": "c009bdc53ccbbd0dc079b143b735d9d9f392397f9be3177e50999814b4e4127e"
  }
 },
 "nbformat": 4,
 "nbformat_minor": 2
}