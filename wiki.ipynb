{
 "cells": [
  {
   "cell_type": "code",
   "execution_count": null,
   "source": [],
   "outputs": [],
   "metadata": {}
  },
  {
   "cell_type": "code",
   "execution_count": 1,
   "source": [
    "import pandas as pd\n",
    "import requests\n",
    "from bs4 import BeautifulSoup\n",
    "import numpy as np\n",
    "import re\n",
    "import sys, getopt\n",
    "import csv"
   ],
   "outputs": [],
   "metadata": {}
  },
  {
   "cell_type": "code",
   "execution_count": 23,
   "source": [
    "res = requests.get(\"https://fr.wikipedia.org/wiki/Ragnar_Ache\")\n",
    "comm = re.compile(\"<!--|-->\")\n",
    "soup = BeautifulSoup(comm.sub(\"\",res.text),\"html.parser\")\n",
    "all_ps = soup.find(\"div\", class_=\"mw-parser-output\")"
   ],
   "outputs": [],
   "metadata": {}
  },
  {
   "cell_type": "code",
   "execution_count": 38,
   "source": [
    "paragraphs = all_ps.find_all(\"p\")"
   ],
   "outputs": [],
   "metadata": {}
  },
  {
   "cell_type": "code",
   "execution_count": 41,
   "source": [
    "for paragraph in paragraphs:\n",
    "    print(paragraph.text)"
   ],
   "outputs": [
    {
     "output_type": "stream",
     "name": "stdout",
     "text": [
      "\n",
      "\n",
      "Ragnar Ache, né le 28 juillet 1998 à Francfort-sur-le-Main en Allemagne, est un footballeur allemand qui évolue au poste d'avant-centre au Eintracht Francfort.\n",
      "\n",
      "Natif de Francfort-sur-le-Main en Allemagne, Ragnar Ache est formé aux Pays-Bas, au Sparta Rotterdam. Il joue son premier match en professionnel le 4 avril 2017 face au SC Heerenveen, lors d'une journée d'Eredivisie de la saison 2016-2017. Son équipe s'incline par trois buts à zéro ce jour-là (1-1)[1]. Le 25 août de la même année Ache inscrit ses deux premiers buts en professionnel lors du match nul face au NAC Breda en championnat (2-2)[2].\n",
      "\n",
      "Le 3 janvier 2020, Ragnar Ache signe en faveur de l'Eintracht Francfort pour un contrat courant jusqu'en juin 2025. Le transfert prend effet à l'été 2020[3]. Il joue son premier match sous ses nouvelles couleurs le 25 septembre 2020, lors d'une rencontre de Bundesliga face au Hertha Berlin. Il entre en jeu à la place de Bas Dost lors de cette rencontre remportée par son équipe sur le score de trois buts à un[4]. Il inscrit son premier but pour Francfort le 22 mai 2021, lors de la dernière journée de championnat face au SC Fribourg. Il entre en jeu à la place de Daichi Kamada ce jour-là et participe avec son but à la victoire de son équipe (3-1 score final)[5].\n",
      "\n",
      "Le 17 novembre 2019, Ragnar Ache joue son premier match avec l'équipe d'Allemagne espoirs, lors d'une rencontre amicale face à la Belgique. Il entre en jeu ce jour-là et inscrit également son premier but, ce qui n'empêche pas son équipe de s'incliner par trois buts à deux[6].\n",
      "\n",
      "Ragnar Ache est né d'un père allemand et d'une mère ghanéenne[7].\n",
      "\n",
      "\n",
      "\n",
      "\n",
      "\n"
     ]
    }
   ],
   "metadata": {}
  }
 ],
 "metadata": {
  "orig_nbformat": 4,
  "language_info": {
   "name": "python",
   "version": "3.8.8",
   "mimetype": "text/x-python",
   "codemirror_mode": {
    "name": "ipython",
    "version": 3
   },
   "pygments_lexer": "ipython3",
   "nbconvert_exporter": "python",
   "file_extension": ".py"
  },
  "kernelspec": {
   "name": "python3",
   "display_name": "Python 3.8.8 64-bit ('imad': conda)"
  },
  "interpreter": {
   "hash": "c009bdc53ccbbd0dc079b143b735d9d9f392397f9be3177e50999814b4e4127e"
  }
 },
 "nbformat": 4,
 "nbformat_minor": 2
}